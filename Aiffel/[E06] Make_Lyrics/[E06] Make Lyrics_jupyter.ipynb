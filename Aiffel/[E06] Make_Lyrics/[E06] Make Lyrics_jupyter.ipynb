{
 "cells": [
  {
   "cell_type": "code",
   "execution_count": 1,
   "metadata": {},
   "outputs": [],
   "source": [
    "import re\n",
    "import numpy as np\n",
    "import tensorflow as tf\n",
    "import os\n",
    "import glob\n",
    "from sklearn.model_selection import train_test_split"
   ]
  },
  {
   "cell_type": "markdown",
   "metadata": {},
   "source": [
    "### 1. 데이터 읽어오기"
   ]
  },
  {
   "cell_type": "code",
   "execution_count": 2,
   "metadata": {},
   "outputs": [
    {
     "name": "stdout",
     "output_type": "stream",
     "text": [
      "Examples:\n",
      " ['[Hook]', \"I've been down so long, it look like up to me\", 'They look up to me', \"I got fake people showin' fake love to me\", 'Straight up to my face, straight up to my face', \"I've been down so long, it look like up to me\", 'They look up to me', \"I got fake people showin' fake love to me\", 'Straight up to my face, straight up to my face [Verse 1]', \"Somethin' ain't right when we talkin'\"]\n"
     ]
    }
   ],
   "source": [
    "txt_file_path = os.getenv('HOME')+'/aiffel/lyricist/data/lyrics/*'\n",
    "\n",
    "txt_list = glob.glob(txt_file_path)\n",
    "\n",
    "raw_corpus = []\n",
    "\n",
    "# 여러개의 txt 파일을 모두 읽어서 raw_corpus 에 담습니다.\n",
    "for txt_file in txt_list:\n",
    "    with open(txt_file, \"r\") as f:\n",
    "        raw = f.read().splitlines()\n",
    "        raw_corpus.extend(raw)\n",
    "\n",
    "print(\"Examples:\\n\", raw_corpus[:10])"
   ]
  },
  {
   "cell_type": "markdown",
   "metadata": {},
   "source": [
    "#### <데이터 필터링 구상> \n",
    "\n",
    "1. 사람, 영역 이름 빼기 '[Hook]', [Verse 1], [Pre-Hook]\n",
    "2. 토큰의 개수가 15개를 넘어가는 문장을 학습 데이터에서 제외\n",
    "3. 문장부호 \n",
    "4. 대소문자\n",
    "5. 특수문자"
   ]
  },
  {
   "cell_type": "markdown",
   "metadata": {},
   "source": [
    "### 2. 데이터 정제"
   ]
  },
  {
   "cell_type": "code",
   "execution_count": 3,
   "metadata": {},
   "outputs": [
    {
     "name": "stdout",
     "output_type": "stream",
     "text": [
      "I've been down so long, it look like up to me\n",
      "They look up to me\n",
      "I got fake people showin' fake love to me\n",
      "Straight up to my face, straight up to my face\n",
      "I've been down so long, it look like up to me\n",
      "They look up to me\n",
      "I got fake people showin' fake love to me\n",
      "Somethin' ain't right when we talkin'\n"
     ]
    }
   ],
   "source": [
    "for idx, sentence in enumerate(raw_corpus):\n",
    "    if sentence[-1] == \"]\": continue  # 문장의 끝이 ] 인 문장은 건너뜁니다.\n",
    "    if idx > 9: break   # 일단 문장 10개만 확인\n",
    "        \n",
    "    print(sentence)"
   ]
  },
  {
   "cell_type": "code",
   "execution_count": 4,
   "metadata": {},
   "outputs": [],
   "source": [
    "def preprocess_sentence(sentence):\n",
    "    sentence = sentence.lower().strip()       # 소문자로 바꾸고 양쪽 공백을 삭제\n",
    "  \n",
    "    # 아래 3단계를 거쳐 sentence는 스페이스 1개를 delimeter로 하는 소문자 단어 시퀀스로 바뀝니다.\n",
    "    sentence = re.sub(r\"([?.!,¿])\", r\" \\1 \", sentence)        # 패턴의 특수문자를 만나면 특수문자 양쪽에 공백을 추가\n",
    "    sentence = re.sub(r'[\" \"]+', \" \", sentence)                  # 공백 패턴을 만나면 스페이스 1개로 치환\n",
    "    sentence = re.sub(r\"[^a-zA-Z?.!,¿]+\", \" \", sentence)  # a-zA-Z?.!,¿ 패턴을 제외한 모든 문자(공백문자까지도)를 스페이스 1개로 치환\n",
    "\n",
    "    sentence = sentence.strip()\n",
    "\n",
    "    sentence = '<start> ' + sentence + ' <end>'      # 이전 스텝에서 본 것처럼 문장 앞뒤로 <start>와 <end>를 단어처럼 붙여 줍니다\n",
    "    \n",
    "    return sentence"
   ]
  },
  {
   "cell_type": "code",
   "execution_count": 5,
   "metadata": {},
   "outputs": [
    {
     "data": {
      "text/plain": [
       "['<start> i ve been down so long , it look like up to me <end>',\n",
       " '<start> they look up to me <end>',\n",
       " '<start> i got fake people showin fake love to me <end>',\n",
       " '<start> straight up to my face , straight up to my face <end>',\n",
       " '<start> i ve been down so long , it look like up to me <end>',\n",
       " '<start> they look up to me <end>',\n",
       " '<start> i got fake people showin fake love to me <end>',\n",
       " '<start> somethin ain t right when we talkin <end>',\n",
       " '<start> somethin ain t right when we talkin <end>',\n",
       " '<start> look like you hidin your problems <end>',\n",
       " '<start> really you never was solid <end>',\n",
       " '<start> no , you can t son me <end>',\n",
       " '<start> you won t never get to run me <end>',\n",
       " '<start> just when shit look out of reach <end>',\n",
       " '<start> i reach back like one , three <end>',\n",
       " '<start> that s when they smile in my face <end>',\n",
       " '<start> whole time they wanna take my place <end>',\n",
       " '<start> whole time they wanna take my place <end>',\n",
       " '<start> whole time they wanna take my place <end>',\n",
       " '<start> yeah , i know they wanna take my place <end>',\n",
       " '<start> i can tell that love is fake <end>',\n",
       " '<start> i don t trust a word you say <end>',\n",
       " '<start> how you wanna clique up after your mistakes ? <end>',\n",
       " '<start> i ve been down so long , it look like up to me <end>',\n",
       " '<start> they look up to me <end>',\n",
       " '<start> i got fake people showin fake love to me <end>',\n",
       " '<start> straight up to my face , straight up to my face <end>',\n",
       " '<start> i ve been down so long , it look like up to me <end>',\n",
       " '<start> they look up to me <end>',\n",
       " '<start> i got fake people showin fake love to me <end>',\n",
       " '<start> yeah , straight up to my face , tryna play it safe <end>',\n",
       " '<start> vibe switch like night and day <end>',\n",
       " '<start> i can see it , like , right away <end>',\n",
       " '<start> i came up , you changed up <end>',\n",
       " '<start> i caught that whole play <end>',\n",
       " '<start> that s when they smile in my face <end>',\n",
       " '<start> whole time they wanna take my place <end>',\n",
       " '<start> whole time they wanna take my place <end>',\n",
       " '<start> whole time they wanna take my place <end>',\n",
       " '<start> yeah , i know they wanna take my place <end>',\n",
       " '<start> i don t trust a word you say i don t trust a word <end>',\n",
       " '<start> how you wanna clique up after your mistakes ? <end>',\n",
       " '<start> that s just what i heard <end>',\n",
       " '<start> i ve been down so long , it look like up to me <end>',\n",
       " '<start> they look up to me <end>',\n",
       " '<start> i got fake people showin fake love to me <end>',\n",
       " '<start> straight up to my face , straight up to my face <end>',\n",
       " '<start> i ve been down so long , it look like up to me <end>',\n",
       " '<start> they look up to me <end>',\n",
       " '<start> i got fake people showin fake love to me <end>']"
      ]
     },
     "execution_count": 5,
     "metadata": {},
     "output_type": "execute_result"
    }
   ],
   "source": [
    "corpus = []\n",
    "\n",
    "for sentence in raw_corpus:\n",
    "    if len(sentence) == 0: continue # 이 행 빼면 왜 index out of range 나오는지 잘 모르겠음\n",
    "    if sentence[-1] == \"]\": continue\n",
    "    if len(sentence.split()) > 13 : continue\n",
    "    corpus.append(preprocess_sentence(sentence))\n",
    "    \n",
    "corpus[:50]"
   ]
  },
  {
   "cell_type": "code",
   "execution_count": 6,
   "metadata": {},
   "outputs": [
    {
     "name": "stdout",
     "output_type": "stream",
     "text": [
      "[[  2   5  91 ...   0   0   0]\n",
      " [  2  42 133 ...   0   0   0]\n",
      " [  2   5  39 ...   0   0   0]\n",
      " ...\n",
      " [  2   6 456 ...   0   0   0]\n",
      " [  2   8  38 ...   0   0   0]\n",
      " [  2   5  93 ...   0   0   0]] <keras_preprocessing.text.Tokenizer object at 0x7f3c1c1c5e50>\n"
     ]
    }
   ],
   "source": [
    "def tokenize(corpus):\n",
    "    # 텐서플로우에서 제공하는 Tokenizer 패키지를 생성\n",
    "    tokenizer = tf.keras.preprocessing.text.Tokenizer(\n",
    "        num_words=7000,  # 전체 단어의 개수 \n",
    "        filters='',    # 별도로 전처리 로직을 추가할 수 있습니다. 이번에는 사용하지 않겠습니다.\n",
    "        oov_token=\"<unk>\"  # out-of-vocabulary, 사전에 없었던 단어는 어떤 토큰으로 대체할지\n",
    "    )\n",
    "    tokenizer.fit_on_texts(corpus)   # 우리가 구축한 corpus로부터 Tokenizer가 사전을 자동구축하게 됩니다.\n",
    "\n",
    "    # 이후 tokenizer를 활용하여 모델에 입력할 데이터셋을 구축하게 됩니다.\n",
    "    \n",
    "    tensor = tokenizer.texts_to_sequences(corpus)   # tokenizer는 구축한 사전으로부터 corpus를 해석해 Tensor로 변환합니다.\n",
    "    # 입력 데이터의 시퀀스 길이를 일정하게 맞추기 위한 padding  메소드를 제공합니다.\n",
    "    # maxlen의 디폴트값은 None입니다. 이 경우 corpus의 가장 긴 문장을 기준으로 시퀀스 길이가 맞춰집니다.\n",
    "    tensor = tf.keras.preprocessing.sequence.pad_sequences(tensor, padding='post')  \n",
    "    \n",
    "    print(tensor,tokenizer)\n",
    "    return tensor, tokenizer\n",
    "\n",
    "tensor, tokenizer = tokenize(corpus)"
   ]
  },
  {
   "cell_type": "code",
   "execution_count": 7,
   "metadata": {},
   "outputs": [
    {
     "name": "stdout",
     "output_type": "stream",
     "text": [
      "1 : <unk>\n",
      "2 : <start>\n",
      "3 : <end>\n",
      "4 : ,\n",
      "5 : i\n",
      "6 : the\n",
      "7 : you\n",
      "8 : and\n",
      "9 : a\n",
      "10 : to\n"
     ]
    }
   ],
   "source": [
    "for idx in tokenizer.index_word:\n",
    "    print(idx, \":\", tokenizer.index_word[idx])\n",
    "\n",
    "    if idx >= 10: break"
   ]
  },
  {
   "cell_type": "code",
   "execution_count": 8,
   "metadata": {},
   "outputs": [
    {
     "name": "stdout",
     "output_type": "stream",
     "text": [
      "[  2   5  91 103  59  31 166   4  11 133  24  29  10  12]\n",
      "[  5  91 103  59  31 166   4  11 133  24  29  10  12   3]\n"
     ]
    }
   ],
   "source": [
    "src_input = tensor[:, :14]  # tensor에서 마지막 토큰을 잘라내서 소스 문장을 생성합니다. 마지막 토큰은 <end>가 아니라 <pad>일 가능성이 높습니다.\n",
    "tgt_input = tensor[:, 1:15]    # tensor에서 <start>를 잘라내서 타겟 문장을 생성합니다.\n",
    "\n",
    "print(src_input[0])\n",
    "print(tgt_input[0])"
   ]
  },
  {
   "cell_type": "markdown",
   "metadata": {},
   "source": [
    "### 3. 평가 데이터셋 분리"
   ]
  },
  {
   "cell_type": "code",
   "execution_count": 9,
   "metadata": {},
   "outputs": [
    {
     "name": "stdout",
     "output_type": "stream",
     "text": [
      "Source Train: (129670, 14)\n",
      "Target Train: (129670, 14)\n"
     ]
    }
   ],
   "source": [
    "enc_train, enc_val, dec_train, dec_val = train_test_split(src_input,\n",
    "                                                    tgt_input,\n",
    "                                                    test_size=0.2,\n",
    "                                                    random_state=7)\n",
    "print(\"Source Train:\", enc_train.shape)\n",
    "print(\"Target Train:\", dec_train.shape)"
   ]
  },
  {
   "cell_type": "code",
   "execution_count": 10,
   "metadata": {},
   "outputs": [
    {
     "data": {
      "text/plain": [
       "<BatchDataset shapes: ((512, 14), (512, 14)), types: (tf.int32, tf.int32)>"
      ]
     },
     "execution_count": 10,
     "metadata": {},
     "output_type": "execute_result"
    }
   ],
   "source": [
    "BUFFER_SIZE = len(src_input)\n",
    "BATCH_SIZE = 512\n",
    "steps_per_epoch = len(src_input) // BATCH_SIZE\n",
    "\n",
    "VOCAB_SIZE = tokenizer.num_words + 1    # tokenizer가 구축한 단어사전 내 7000개와, 여기 포함되지 않은 0:<pad>를 포함하여 7001개\n",
    "\n",
    "dataset = tf.data.Dataset.from_tensor_slices((enc_train, dec_train)).shuffle(BUFFER_SIZE)\n",
    "dataset = dataset.batch(BATCH_SIZE, drop_remainder=True)\n",
    "dataset"
   ]
  },
  {
   "cell_type": "markdown",
   "metadata": {},
   "source": [
    "### 3. 학습시키기"
   ]
  },
  {
   "cell_type": "code",
   "execution_count": 11,
   "metadata": {},
   "outputs": [],
   "source": [
    "class TextGenerator(tf.keras.Model):\n",
    "    def __init__(self, vocab_size, embedding_size, hidden_size):\n",
    "        super(TextGenerator, self).__init__()\n",
    "        \n",
    "        self.embedding = tf.keras.layers.Embedding(vocab_size, embedding_size)\n",
    "        self.rnn_1 = tf.keras.layers.LSTM(hidden_size, return_sequences=True)\n",
    "        self.rnn_2 = tf.keras.layers.LSTM(hidden_size, return_sequences=True)\n",
    "        self.linear = tf.keras.layers.Dense(vocab_size)\n",
    "        \n",
    "    def call(self, x):\n",
    "        out = self.embedding(x)\n",
    "        out = self.rnn_1(out)\n",
    "        out = self.rnn_2(out)\n",
    "        out = self.linear(out)\n",
    "        \n",
    "        return out\n",
    "    \n",
    "embedding_size = 256\n",
    "hidden_size = 1024\n",
    "model = TextGenerator(tokenizer.num_words + 1, embedding_size , hidden_size)"
   ]
  },
  {
   "cell_type": "code",
   "execution_count": 12,
   "metadata": {},
   "outputs": [
    {
     "data": {
      "text/plain": [
       "<tf.Tensor: shape=(512, 14, 7001), dtype=float32, numpy=\n",
       "array([[[-5.63415306e-05, -9.41520266e-05, -2.51911668e-04, ...,\n",
       "          1.96514142e-04, -4.63830482e-04,  1.46236940e-04],\n",
       "        [ 6.22594671e-05, -1.80944684e-04, -3.85232503e-04, ...,\n",
       "          1.41872311e-04, -4.14292532e-04,  1.89357423e-04],\n",
       "        [ 6.64875406e-05, -1.28448417e-04, -4.49140294e-04, ...,\n",
       "          2.79058760e-04, -6.47703360e-04,  3.29607465e-05],\n",
       "        ...,\n",
       "        [-6.15862606e-04,  5.11600170e-04,  6.17681595e-04, ...,\n",
       "         -6.04003202e-04,  4.64261509e-04, -4.05132829e-04],\n",
       "        [-9.36098106e-04,  2.75941828e-04,  5.10788290e-04, ...,\n",
       "         -6.17448823e-04,  2.50672281e-04,  9.55955693e-05],\n",
       "        [-4.24149737e-04,  6.37487465e-05,  6.04859670e-04, ...,\n",
       "         -2.62483838e-04,  1.62662225e-04,  5.51580510e-04]],\n",
       "\n",
       "       [[-5.63415306e-05, -9.41520266e-05, -2.51911668e-04, ...,\n",
       "          1.96514142e-04, -4.63830482e-04,  1.46236940e-04],\n",
       "        [-1.18285338e-04,  1.21915786e-04, -3.35839140e-04, ...,\n",
       "         -2.64050232e-06, -5.07919642e-04,  2.27225566e-04],\n",
       "        [ 1.96455163e-04,  2.04645286e-04, -3.51593364e-04, ...,\n",
       "          1.53846904e-05, -1.79253344e-04,  7.81653289e-05],\n",
       "        ...,\n",
       "        [ 1.21581499e-04, -1.55203801e-03, -5.79453597e-04, ...,\n",
       "          1.71893172e-03,  1.57991634e-03, -1.87231883e-04],\n",
       "        [-3.28911992e-04, -1.36337546e-03, -8.13254854e-04, ...,\n",
       "          1.86997629e-03,  1.95170159e-03, -6.15112658e-05],\n",
       "        [-7.80322589e-04, -1.15403126e-03, -1.03097875e-03, ...,\n",
       "          1.96896121e-03,  2.31416221e-03,  1.02194484e-04]],\n",
       "\n",
       "       [[-5.63415306e-05, -9.41520266e-05, -2.51911668e-04, ...,\n",
       "          1.96514142e-04, -4.63830482e-04,  1.46236940e-04],\n",
       "        [ 4.65880839e-05, -3.03627428e-04, -5.82968525e-04, ...,\n",
       "          6.92034489e-04, -5.45284827e-04,  3.83448933e-05],\n",
       "        [-1.23703085e-05, -1.85826357e-04, -8.54511571e-04, ...,\n",
       "          8.44679540e-04, -4.94383858e-04, -9.74222494e-05],\n",
       "        ...,\n",
       "        [-1.37558354e-05, -8.17441556e-04, -5.03425894e-04, ...,\n",
       "          2.25442997e-03,  9.38995450e-04, -7.77367270e-04],\n",
       "        [-3.89298628e-04, -6.74575451e-04, -6.30319817e-04, ...,\n",
       "          2.36518215e-03,  1.37279788e-03, -7.09335553e-04],\n",
       "        [-7.93667394e-04, -5.27173921e-04, -7.69731996e-04, ...,\n",
       "          2.43686442e-03,  1.79975003e-03, -5.69331867e-04]],\n",
       "\n",
       "       ...,\n",
       "\n",
       "       [[-5.63415306e-05, -9.41520266e-05, -2.51911668e-04, ...,\n",
       "          1.96514142e-04, -4.63830482e-04,  1.46236940e-04],\n",
       "        [ 3.35903285e-04, -2.81538232e-04, -3.63123749e-04, ...,\n",
       "          1.72954780e-04, -5.72640216e-04,  4.41036100e-04],\n",
       "        [ 5.59454027e-04, -7.79021299e-04, -6.09488052e-04, ...,\n",
       "          2.38028981e-04, -4.86116245e-04,  5.95857098e-04],\n",
       "        ...,\n",
       "        [ 9.88131738e-04, -1.14337844e-03, -6.83023885e-04, ...,\n",
       "          1.31669862e-03,  1.49330392e-03,  8.52018478e-04],\n",
       "        [ 4.48302308e-04, -9.57520562e-04, -8.53431935e-04, ...,\n",
       "          1.63748686e-03,  1.80448010e-03,  7.78734626e-04],\n",
       "        [-1.05659776e-04, -7.59302871e-04, -1.01405557e-03, ...,\n",
       "          1.89569627e-03,  2.11612391e-03,  7.77329900e-04]],\n",
       "\n",
       "       [[-5.63415306e-05, -9.41520266e-05, -2.51911668e-04, ...,\n",
       "          1.96514142e-04, -4.63830482e-04,  1.46236940e-04],\n",
       "        [-1.23550257e-04, -2.68220872e-04, -1.80374132e-04, ...,\n",
       "          6.13195938e-04, -6.97946292e-04, -2.88923708e-04],\n",
       "        [ 4.76300884e-05, -4.17037605e-04, -1.18376825e-04, ...,\n",
       "          6.14051125e-04, -5.38591179e-04, -5.73076075e-04],\n",
       "        ...,\n",
       "        [ 1.35347713e-03, -1.62507023e-03,  4.43769968e-04, ...,\n",
       "          1.51624857e-03,  1.19009637e-03,  6.76240772e-04],\n",
       "        [ 1.04193809e-03, -1.56299584e-03,  2.40197987e-04, ...,\n",
       "          1.77725474e-03,  1.49089133e-03,  5.62621106e-04],\n",
       "        [ 6.13547163e-04, -1.43395865e-03,  2.57758165e-05, ...,\n",
       "          1.99181144e-03,  1.82227208e-03,  5.05930802e-04]],\n",
       "\n",
       "       [[-5.63415306e-05, -9.41520266e-05, -2.51911668e-04, ...,\n",
       "          1.96514142e-04, -4.63830482e-04,  1.46236940e-04],\n",
       "        [-1.22653495e-04, -3.53923009e-04, -4.46902413e-04, ...,\n",
       "          4.34207876e-04, -8.48923810e-04,  4.90855949e-04],\n",
       "        [-3.86294239e-04, -5.28604607e-04, -7.48837250e-04, ...,\n",
       "          2.80916429e-04, -6.76009513e-04,  4.57243150e-04],\n",
       "        ...,\n",
       "        [-2.13782594e-04, -9.05649853e-04, -8.26354604e-04, ...,\n",
       "          5.07535005e-04,  4.64192446e-04,  1.16174931e-04],\n",
       "        [-3.72407405e-04, -8.76752601e-04, -8.91323783e-04, ...,\n",
       "          7.24635378e-04,  8.16792657e-04,  3.91402318e-05],\n",
       "        [-6.14831864e-04, -7.98766850e-04, -9.82011552e-04, ...,\n",
       "          9.39784572e-04,  1.21454638e-03,  5.54373837e-05]]],\n",
       "      dtype=float32)>"
      ]
     },
     "execution_count": 12,
     "metadata": {},
     "output_type": "execute_result"
    }
   ],
   "source": [
    "for src_sample, tgt_sample in dataset.take(1): break\n",
    "model(src_sample)"
   ]
  },
  {
   "cell_type": "code",
   "execution_count": 13,
   "metadata": {
    "scrolled": true
   },
   "outputs": [
    {
     "name": "stdout",
     "output_type": "stream",
     "text": [
      "Model: \"text_generator\"\n",
      "_________________________________________________________________\n",
      "Layer (type)                 Output Shape              Param #   \n",
      "=================================================================\n",
      "embedding (Embedding)        multiple                  1792256   \n",
      "_________________________________________________________________\n",
      "lstm (LSTM)                  multiple                  5246976   \n",
      "_________________________________________________________________\n",
      "lstm_1 (LSTM)                multiple                  8392704   \n",
      "_________________________________________________________________\n",
      "dense (Dense)                multiple                  7176025   \n",
      "=================================================================\n",
      "Total params: 22,607,961\n",
      "Trainable params: 22,607,961\n",
      "Non-trainable params: 0\n",
      "_________________________________________________________________\n"
     ]
    }
   ],
   "source": [
    "model.summary()"
   ]
  },
  {
   "cell_type": "code",
   "execution_count": 14,
   "metadata": {},
   "outputs": [
    {
     "name": "stdout",
     "output_type": "stream",
     "text": [
      "Epoch 1/10\n",
      "253/253 [==============================] - 48s 190ms/step - loss: 3.6679\n",
      "Epoch 2/10\n",
      "253/253 [==============================] - 49s 193ms/step - loss: 3.0840\n",
      "Epoch 3/10\n",
      "253/253 [==============================] - 49s 193ms/step - loss: 2.8959\n",
      "Epoch 4/10\n",
      "253/253 [==============================] - 49s 194ms/step - loss: 2.7619\n",
      "Epoch 5/10\n",
      "253/253 [==============================] - 49s 194ms/step - loss: 2.6514\n",
      "Epoch 6/10\n",
      "253/253 [==============================] - 49s 194ms/step - loss: 2.5509\n",
      "Epoch 7/10\n",
      "253/253 [==============================] - 49s 194ms/step - loss: 2.4573\n",
      "Epoch 8/10\n",
      "253/253 [==============================] - 50s 197ms/step - loss: 2.3676\n",
      "Epoch 9/10\n",
      "253/253 [==============================] - 49s 195ms/step - loss: 2.2806\n",
      "Epoch 10/10\n",
      "253/253 [==============================] - 49s 194ms/step - loss: 2.1948\n"
     ]
    },
    {
     "data": {
      "text/plain": [
       "<tensorflow.python.keras.callbacks.History at 0x7f3b986e1c90>"
      ]
     },
     "execution_count": 14,
     "metadata": {},
     "output_type": "execute_result"
    }
   ],
   "source": [
    "optimizer = tf.keras.optimizers.Adam()\n",
    "loss = tf.keras.losses.SparseCategoricalCrossentropy(\n",
    "    from_logits=True,\n",
    "    reduction='none')\n",
    "\n",
    "model.compile(loss=loss, optimizer=optimizer)\n",
    "model.fit(dataset, epochs=10)"
   ]
  },
  {
   "cell_type": "code",
   "execution_count": 15,
   "metadata": {},
   "outputs": [],
   "source": [
    "def generate_text(model, tokenizer, init_sentence=\"<start>\", max_len=20):\n",
    "    # 테스트를 위해서 입력받은 init_sentence도 일단 텐서로 변환합니다.\n",
    "    test_input = tokenizer.texts_to_sequences([init_sentence])\n",
    "    test_tensor = tf.convert_to_tensor(test_input, dtype=tf.int64)\n",
    "    end_token = tokenizer.word_index[\"<end>\"]\n",
    "\n",
    "    # 텍스트를 실제로 생성할때는 루프를 돌면서 단어 하나씩 생성해야 합니다. \n",
    "    while True:\n",
    "        predict = model(test_tensor)  # 입력받은 문장의 텐서를 입력합니다. \n",
    "        predict_word = tf.argmax(tf.nn.softmax(predict, axis=-1), axis=-1)[:, -1]   # 우리 모델이 예측한 마지막 단어가 바로 새롭게 생성한 단어가 됩니다. \n",
    "\n",
    "        # 우리 모델이 새롭게 예측한 단어를 입력 문장의 뒤에 붙여 줍니다. \n",
    "        test_tensor = tf.concat([test_tensor, \n",
    "\t\t\t\t\t\t\t\t\t\t\t\t\t\t\t\t tf.expand_dims(predict_word, axis=0)], axis=-1)\n",
    "\n",
    "        # 우리 모델이 <end>를 예측했거나, max_len에 도달하지 않았다면  while 루프를 또 돌면서 다음 단어를 예측해야 합니다.\n",
    "        if predict_word.numpy()[0] == end_token: break\n",
    "        if test_tensor.shape[1] >= max_len: break\n",
    "\n",
    "    generated = \"\"\n",
    "    # 생성된 tensor 안에 있는 word index를 tokenizer.index_word 사전을 통해 실제 단어로 하나씩 변환합니다. \n",
    "    for word_index in test_tensor[0].numpy():\n",
    "        generated += tokenizer.index_word[word_index] + \" \"\n",
    "\n",
    "    return generated   # 이것이 최종적으로 모델이 생성한 자연어 문장입니다."
   ]
  },
  {
   "cell_type": "code",
   "execution_count": 16,
   "metadata": {},
   "outputs": [
    {
     "data": {
      "text/plain": [
       "'<start> i love you , i m not gonna crack <end> '"
      ]
     },
     "execution_count": 16,
     "metadata": {},
     "output_type": "execute_result"
    }
   ],
   "source": [
    "generate_text(model, tokenizer, init_sentence=\"<start> i love\", max_len=20)"
   ]
  }
 ],
 "metadata": {
  "kernelspec": {
   "display_name": "aiffel",
   "language": "python",
   "name": "aiffel"
  },
  "language_info": {
   "codemirror_mode": {
    "name": "ipython",
    "version": 3
   },
   "file_extension": ".py",
   "mimetype": "text/x-python",
   "name": "python",
   "nbconvert_exporter": "python",
   "pygments_lexer": "ipython3",
   "version": "3.7.6"
  }
 },
 "nbformat": 4,
 "nbformat_minor": 4
}
