{
 "cells": [
  {
   "cell_type": "code",
   "execution_count": 3,
   "metadata": {},
   "outputs": [
    {
     "name": "stdout",
     "output_type": "stream",
     "text": [
      "decision tree:\n",
      " [[33  7]\n",
      " [ 3 71]] \n",
      "\n",
      "random_forest:\n",
      "  [[40  0]\n",
      " [ 0 74]] \n",
      "\n",
      "SupportVectorMachine: \n",
      " [[34  6]\n",
      " [ 0 74]] \n",
      "\n",
      "sgd_model: \n",
      " [[22 18]\n",
      " [ 0 74]] \n",
      "\n"
     ]
    }
   ],
   "source": [
    "from sklearn.datasets import load_breast_cancer\n",
    "from sklearn.model_selection import train_test_split\n",
    "from sklearn.tree import DecisionTreeClassifier\n",
    "from sklearn.ensemble import RandomForestClassifier\n",
    "from sklearn import svm\n",
    "from sklearn.linear_model import SGDClassifier\n",
    "from sklearn.metrics import confusion_matrix\n",
    "\n",
    "breast = load_breast_cancer()\n",
    "breast_data = breast.data\n",
    "breast_label = breast.target\n",
    "\n",
    "# (3) train, test 데이터 분리\n",
    "X_train, X_test, y_train, y_test = train_test_split(breast_data,\n",
    "                                                    breast_label,\n",
    "                                                    test_size=0.2,\n",
    "                                                    random_state=7)\n",
    "\n",
    "# (4) 모델 학습 및 예측\n",
    "decision_tree = DecisionTreeClassifier(random_state=32)\n",
    "decision_tree.fit(X_train, y_train)\n",
    "y_pred = decision_tree.predict(X_test)\n",
    "print(\"decision tree:\\n\", confusion_matrix(y_test, y_pred),\"\\n\")\n",
    "\n",
    "\n",
    "random_forest = RandomForestClassifier(random_state=32)\n",
    "random_forest.fit(X_train, y_train)\n",
    "y_pred = random_forest.predict(X_test)\n",
    "print(\"random_forest:\\n \", confusion_matrix(y_test, y_pred),\"\\n\")\n",
    "\n",
    "SupportVectorMachine = svm.SVC(kernel='linear')\n",
    "SupportVectorMachine.fit(X_train, y_train)\n",
    "y_pred = SupportVectorMachine.predict(X_test)\n",
    "print(\"SupportVectorMachine: \\n\", confusion_matrix(y_test, y_pred),\"\\n\")\n",
    "\n",
    "\n",
    "sgd_model = SGDClassifier()\n",
    "sgd_model.fit(X_train, y_train)\n",
    "y_pred = sgd_model.predict(X_test)\n",
    "print(\"sgd_model: \\n\", confusion_matrix(y_test, y_pred),\"\\n\")\n"
   ]
  },
  {
   "cell_type": "markdown",
   "metadata": {},
   "source": [
    "이진 분류이기 때문에 오차행렬 값을 이용함.\n",
    "특히 오차행렬을 이용한 이유는, 실제 환자에게 음성을 판정하는 False Negative률이 가장 적은것이 좋은 분류기라고 생각하기 때문이다.\n",
    "따라서 FN 값이 가장 작은 random forest가 가장 좋은 분류기라고 생각함."
   ]
  }
 ],
 "metadata": {
  "kernelspec": {
   "display_name": "Python 3",
   "language": "python",
   "name": "python3"
  },
  "language_info": {
   "codemirror_mode": {
    "name": "ipython",
    "version": 3
   },
   "file_extension": ".py",
   "mimetype": "text/x-python",
   "name": "python",
   "nbconvert_exporter": "python",
   "pygments_lexer": "ipython3",
   "version": "3.9.1"
  }
 },
 "nbformat": 4,
 "nbformat_minor": 4
}
