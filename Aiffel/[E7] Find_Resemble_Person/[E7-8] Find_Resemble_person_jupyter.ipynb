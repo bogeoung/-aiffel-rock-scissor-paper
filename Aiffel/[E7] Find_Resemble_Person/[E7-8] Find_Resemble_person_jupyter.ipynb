{
 "cells": [
  {
   "cell_type": "markdown",
   "metadata": {},
   "source": [
    "### 얼굴 영역 자르기"
   ]
  },
  {
   "cell_type": "code",
   "execution_count": 1,
   "metadata": {},
   "outputs": [],
   "source": [
    "import face_recognition\n",
    "import os\n",
    "%matplotlib inline\n",
    "import matplotlib.pyplot as plt\n",
    "from PIL import Image\n",
    "import numpy as np"
   ]
  },
  {
   "cell_type": "markdown",
   "metadata": {},
   "source": [
    "얼굴 이미지만 가져오는 함수 get_gropped_face"
   ]
  },
  {
   "cell_type": "code",
   "execution_count": 2,
   "metadata": {},
   "outputs": [],
   "source": [
    "def get_gropped_face(image_file):\n",
    "  image = face_recognition.load_image_file(image_file)\n",
    "  face_locations = face_recognition.face_locations(image)\n",
    "\n",
    "  a, b, c, d = face_locations[0]\n",
    "  cropped_face = image[a:c,d:b,:]\n",
    "\n",
    "  # plt.imshow(cropped_face)\n",
    "    \n",
    "  return cropped_face"
   ]
  },
  {
   "cell_type": "markdown",
   "metadata": {},
   "source": [
    "디렉토리 내의 파일 목록을 읽어서 저장 (반복문 사용 위함)"
   ]
  },
  {
   "cell_type": "code",
   "execution_count": 3,
   "metadata": {},
   "outputs": [],
   "source": [
    "path_dir = os.getenv('HOME')+'/aiffel/face_embedding/images'\n",
    "save_dir = os.getenv('HOME')+'/aiffel/face_embedding/images_cropped/'\n",
    "file_list = os.listdir(path_dir)"
   ]
  },
  {
   "cell_type": "code",
   "execution_count": 4,
   "metadata": {
    "scrolled": true
   },
   "outputs": [
    {
     "name": "stdout",
     "output_type": "stream",
     "text": [
      "images31.jpg\n",
      "Twice-K-pop-celebrity-Asian-Korean-korean-women-twice-tzuyu-Chou-Tzuyu-looking-at-viewer-face-1766027.jpg\n",
      "nana.jpeg\n",
      "b158c06bb50f5e91d1572a1c552b0c42--korean-women-korean-girl.jpg\n",
      "women-celebrity-asians-korean.jpg\n",
      "auburn-hair-girls-generation-k-pop-singer-celebrity-asian-kim-tae-yeon-korean-women-wallpaper-thumb.jpg\n",
      "top-10-most-successful-beautiful-korean-drama-actresses5.jpg\n",
      "ae91edb52760b352ae1dc0eaef87ee8a.png\n",
      "obama.jpg\n",
      "me1.jpg\n",
      "top-10-most-successful-beautiful-korean-drama-actresses4.jpg\n",
      "Twice-K-pop-celebrity-Asian-Korean-korean-women-twice-dahyun-Kim-Dahyun-looking-at-viewer-1766039.jpg\n",
      "image23.jpeg\n",
      "korean-celebrity-skincare-secrets-091218-pony-1.jpg\n",
      "images23.jpg\n",
      "images0.jpg\n",
      "images17.jpg\n",
      "Korean-Fashion-Trends-for-SpringSummer-2020-5.png\n",
      "rs_634x1024-190704025054-kimheesun.jpg\n",
      "images10.jpg\n",
      "6d869da12585f7519a6ae5079b367f81.jpg\n",
      "image20.jpeg\n",
      "rs_634x1024-190327235030-Shinminah.jpg\n",
      "images4.jpg\n",
      "top-10-most-successful-beautiful-korean-drama-actresses1.jpg\n",
      "image14.jpeg\n",
      "images28.jpg\n",
      "images14.jpg\n",
      "image17.jpeg\n",
      "bush.jpeg\n",
      "images32.jpg\n",
      "images20.jpg\n",
      "images12.jpg\n",
      "180329_EC8580ED8190EC96BCEBA6ACEB8D94EC8AA4_ED9689EC82AC_EAB980ED839CED9DAC.jpg\n",
      "15Han20Ga-In.jpg\n",
      "images7.jpg\n",
      "kpop-Korean-Celebrity-same-korean-Fashion-Women-s-Jewelry-Necklace-Simple-Gold-Silver-wedding-temperament-Necklace.jpg\n",
      "Yoon-Eun-Hye-Hairstyles.jpg\n",
      "trump.jpg\n",
      "image22.jpeg\n",
      "image.jpeg\n",
      "e59d82551bfc2a6dd9dd62923804ce0b.jpg\n",
      "asian-iu-celebrity-korean-wallpaper-preview.jpg\n",
      "images29.jpg\n",
      "13847-27xphwgdzd.jpg\n",
      "4c6a48d014c2768f464761dafe4029db.jpg\n",
      "Twice-K-pop-celebrity-Asian-Korean-korean-women-twice-mina-Mina-Myoi-looking-at-viewer-1766045.jpg\n",
      "images9.jpg\n",
      "image9.jpeg\n",
      "f259d920f80680c3bd54a4960aa73d34--korean-make-up-korean-style.jpg\n",
      "kpop-Korean-Celebrity-Streetwear-One-word-collar-strapless-chiffon-shirt-Harajuku-tops-women-korean-Sexy-blouse.jpg\n",
      "image11.jpeg\n",
      "images27.jpg\n",
      "images2.jpg\n",
      "afe50e39e12d0056d4ca103710baaa8a.jpg\n",
      "c25d9b485600434e9f3cc380144dd4e7--korean-star-park-shin-hye.jpg\n",
      "Moon-Chae-won-Top-Popular-Hottest-Famous-Korean-Female-Celebrities-in-The-World-2018.jpg\n",
      "images16.jpg\n",
      "ec376a9cb557fc42d4a620c8057c88a1--korean-celebrities-korean-women.jpg\n",
      "biracial-1.png\n",
      "twice-k-pop-celebrity-asian-korean-hd-wallpaper-preview0.jpg\n",
      "twice-k-pop-celebrity-asian-korean-hd-wallpaper-preview1.jpg\n",
      "image18.jpeg\n",
      "bae-suzy-suzy-korean-korean-women-celebrity-hd-wallpaper-preview.jpg\n",
      "image12.jpeg\n",
      "honey-lee-pp.jpg\n",
      "images22.jpg\n",
      "top-10-most-successful-beautiful-korean-drama-actresses.jpg\n",
      "clara_closeup.png\n",
      "top-10-most-successful-beautiful-korean-drama-actresses6.jpg\n",
      "5bebf18abf427dfac63bb3bd9faa54f8--korean-drama-korean-actresses.jpg\n",
      "top-10-most-successful-beautiful-korean-drama-actresses2.jpg\n",
      "9b8004ab5fec0e6424acb271e9d258d5.png\n",
      "images.jpg\n",
      "image10.jpeg\n",
      "images37.jpg\n",
      "Twice-K-pop-celebrity-Asian-Korean-korean-women-twice-momo-Momo-Hirai-looking-at-viewer-face-1766025.jpg\n",
      "image8.jpeg\n",
      "3df48cde1d8292e3b0e6409eb459397b--korean-celebrities-beautiful-celebrities.jpg\n",
      "images19.jpg\n",
      "top-10-most-successful-beautiful-korean-drama-actresses0.jpg\n",
      "images33.jpg\n",
      "images26.jpg\n",
      "twice-k-pop-celebrity-asian-korean-hd-wallpaper-preview.jpg\n",
      "c1b7925d331726a1335dab9d2b59d400--korean-tops-song-hye-kyo.jpg\n",
      "aa25bc1756365e6de3ddd357bdd54b4b.jpg\n",
      "me2.JPG\n",
      "fd05670e5229a565ddc20b487422ce99.jpg\n",
      "60e6a0120301eb8c670a3896617d0781.jpg\n",
      "4599673-snsd-asian-musician-tiffany-hwang-women-celebrity-singer-girls039-generation-korean.jpg\n",
      "images18.jpg\n",
      "korean-celebrities-hairstyles-for-women-15.jpg\n",
      "top-10-most-successful-beautiful-korean-drama-actresses3.jpg\n",
      "d976c7a578ef3c4afb411f2fd5803ead.jpg\n",
      "image7.jpeg\n",
      "ff87fa7de4245eb0597d8dc72b51a649.jpg\n",
      "images8.jpg\n",
      "image2.jpeg\n",
      "images30.jpg\n",
      "46972595ddac47f7ee580bdf3af943c5.jpg\n",
      "995df74669008c93343b0cdc0aaccdc2.jpg\n",
      "reagan.jpg\n",
      "images13.jpg\n",
      "Park-Shin.png\n",
      "images21.jpg\n"
     ]
    }
   ],
   "source": [
    "for i in file_list:\n",
    "    print(i)\n",
    "    image_path = os.getenv('HOME')+'/aiffel/face_embedding/images/' + i\n",
    "    face = get_gropped_face(image_path)\n",
    "    pillow_image = Image.fromarray(face)\n",
    "    pillow_image.save(save_dir+i)"
   ]
  },
  {
   "cell_type": "markdown",
   "metadata": {},
   "source": [
    "### 모은 연예인들과 비교하기"
   ]
  },
  {
   "cell_type": "code",
   "execution_count": 5,
   "metadata": {},
   "outputs": [],
   "source": [
    "def get_face_embedding(face):\n",
    "    return face_recognition.face_encodings(face)"
   ]
  },
  {
   "cell_type": "code",
   "execution_count": 6,
   "metadata": {},
   "outputs": [],
   "source": [
    "def get_face_embedding_dict(dir_path):\n",
    "    file_list = os.listdir(dir_path)\n",
    "    embedding_dict = {}\n",
    "    \n",
    "    for file in file_list:\n",
    "        img_path = os.path.join(dir_path, file)\n",
    "        face = get_gropped_face(img_path)\n",
    "        embedding = get_face_embedding(face)\n",
    "        if len(embedding) > 0: \n",
    "          embedding_dict[os.path.splitext(file)[0]] = embedding[0]\n",
    "        \n",
    "    return embedding_dict"
   ]
  },
  {
   "cell_type": "code",
   "execution_count": 7,
   "metadata": {},
   "outputs": [],
   "source": [
    "def get_sort_key_func(name1):\n",
    "    def get_distance_from_name1(name2):\n",
    "        return get_distance(name1, name2)\n",
    "    return get_distance_from_name1\n"
   ]
  },
  {
   "cell_type": "code",
   "execution_count": 8,
   "metadata": {
    "scrolled": true
   },
   "outputs": [
    {
     "data": {
      "text/plain": [
       "array([-8.50986689e-02,  1.18850760e-01,  1.54181384e-03, -6.76471666e-02,\n",
       "       -2.13695005e-01, -4.31106612e-02, -5.28945588e-02, -7.27443621e-02,\n",
       "        1.07735842e-01, -1.33865073e-01,  1.74495444e-01, -9.42279249e-02,\n",
       "       -2.40262032e-01, -2.31311787e-02, -5.59987724e-02,  2.23724738e-01,\n",
       "       -1.43257454e-01, -2.33271345e-01, -5.51669337e-02, -7.30293849e-03,\n",
       "        8.65254998e-02,  3.61652337e-02, -1.45579828e-03,  2.70015318e-02,\n",
       "       -1.74582079e-01, -2.99614906e-01, -5.17133512e-02, -4.89282459e-02,\n",
       "       -2.11742781e-02, -8.44201744e-02, -2.12022103e-04,  9.66739282e-02,\n",
       "       -2.01116189e-01, -1.15832593e-02,  8.04464072e-02,  1.15032524e-01,\n",
       "       -1.04419980e-02, -6.65974468e-02,  1.59162819e-01, -1.94081701e-02,\n",
       "       -3.50237250e-01,  9.04845819e-03,  8.71530622e-02,  2.70912439e-01,\n",
       "        1.17680974e-01,  2.24774843e-03,  8.29979964e-03, -1.36124089e-01,\n",
       "        8.75518695e-02, -1.77843720e-01,  3.81012857e-02,  1.70865938e-01,\n",
       "       -1.54459756e-03,  3.51130441e-02,  2.64743418e-02, -1.17125675e-01,\n",
       "        8.56115669e-02,  1.35374561e-01, -1.27032593e-01, -9.84244235e-03,\n",
       "        1.31797180e-01, -5.26349656e-02, -1.10344887e-02, -1.48141459e-01,\n",
       "        2.40985423e-01,  2.21166518e-02, -1.02697074e-01, -1.89683110e-01,\n",
       "        1.21389382e-01, -1.57580912e-01, -1.24664523e-01,  1.02289759e-01,\n",
       "       -1.56348869e-01, -1.69824392e-01, -3.15309227e-01, -5.10625094e-02,\n",
       "        3.68501693e-01,  1.02540411e-01, -1.48013607e-01,  1.22549720e-01,\n",
       "        5.44137955e-02,  2.77599841e-02,  1.37596667e-01,  1.89817324e-01,\n",
       "       -9.71390400e-03,  9.33708921e-02, -8.47716108e-02,  4.42097485e-02,\n",
       "        3.01066607e-01, -9.58660170e-02, -4.01197933e-02,  2.11857796e-01,\n",
       "       -4.03864775e-03,  3.34346704e-02,  4.73700538e-02,  3.10295424e-03,\n",
       "       -2.72418074e-02, -1.32425344e-02, -1.22759819e-01,  4.40113107e-03,\n",
       "        5.26691526e-02, -8.23704600e-02, -8.24064985e-02,  1.33849502e-01,\n",
       "       -1.30808592e-01,  6.80591464e-02, -1.87642835e-02,  6.72751814e-02,\n",
       "       -4.46440615e-02,  2.93472447e-02, -8.86272341e-02, -7.96732455e-02,\n",
       "        1.19123772e-01, -2.04947010e-01,  2.38360018e-01,  1.82843685e-01,\n",
       "        3.24271247e-02,  4.33742628e-02,  1.61036253e-01,  4.64334227e-02,\n",
       "        8.52674618e-03, -2.29521189e-02, -2.09741175e-01, -5.28562516e-02,\n",
       "        1.36910558e-01, -8.23282003e-02,  9.86697078e-02,  1.13483602e-02])"
      ]
     },
     "execution_count": 8,
     "metadata": {},
     "output_type": "execute_result"
    }
   ],
   "source": [
    "embedding_dict = get_face_embedding_dict(path_dir)\n",
    "embedding_dict['me1']"
   ]
  },
  {
   "cell_type": "code",
   "execution_count": 9,
   "metadata": {},
   "outputs": [],
   "source": [
    "def get_distance(name1, name2):\n",
    "    return np.linalg.norm(embedding_dict[name1]-embedding_dict[name2], ord=2)"
   ]
  },
  {
   "cell_type": "code",
   "execution_count": 10,
   "metadata": {},
   "outputs": [],
   "source": [
    "def get_nearest_face(name, top=5):\n",
    "    sort_key_func = get_sort_key_func(name)   \n",
    "    sorted_faces = sorted(embedding_dict.items(), key=lambda x:sort_key_func(x[0]))\n",
    "    \n",
    "    for i in range(top + 1):\n",
    "      if i == 0 :\n",
    "        continue\n",
    "      if sorted_faces[i]:\n",
    "        print('순위 {} : 이름({}), 거리({})'.format(i, sorted_faces[i][0], sort_key_func(sorted_faces[i][0])))\n",
    "        #plt.imshow(i)"
   ]
  },
  {
   "cell_type": "code",
   "execution_count": 12,
   "metadata": {},
   "outputs": [
    {
     "name": "stdout",
     "output_type": "stream",
     "text": [
      "순위 1 : 이름(me2), 거리(0.40054826472119764)\n",
      "순위 2 : 이름(Twice-K-pop-celebrity-Asian-Korean-korean-women-twice-momo-Momo-Hirai-looking-at-viewer-face-1766025), 거리(0.4216865716212002)\n",
      "순위 3 : 이름(image10), 거리(0.4280837034905097)\n",
      "순위 4 : 이름(rs_634x1024-190327235030-Shinminah), 거리(0.4297994527357344)\n",
      "순위 5 : 이름(d976c7a578ef3c4afb411f2fd5803ead), 거리(0.4321173879675547)\n"
     ]
    }
   ],
   "source": [
    "get_nearest_face('me1')"
   ]
  },
  {
   "cell_type": "markdown",
   "metadata": {},
   "source": [
    "## 시각화 추가 필요!!"
   ]
  }
 ],
 "metadata": {
  "kernelspec": {
   "display_name": "aiffel",
   "language": "python",
   "name": "aiffel"
  },
  "language_info": {
   "codemirror_mode": {
    "name": "ipython",
    "version": 3
   },
   "file_extension": ".py",
   "mimetype": "text/x-python",
   "name": "python",
   "nbconvert_exporter": "python",
   "pygments_lexer": "ipython3",
   "version": "3.7.6"
  }
 },
 "nbformat": 4,
 "nbformat_minor": 4
}
