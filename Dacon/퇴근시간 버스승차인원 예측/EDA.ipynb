{
 "cells": [
  {
   "cell_type": "code",
   "execution_count": 1,
   "id": "46ef5274",
   "metadata": {},
   "outputs": [],
   "source": [
    "# 라이브러리 import\n",
    "import os\n",
    "import warnings\n",
    "from tqdm import tqdm\n",
    "\n",
    "import pandas as pd\n",
    "import numpy as np\n",
    "from sklearn.model_selection import (\n",
    "        KFold, StratifiedKFold, GridSearchCV, RandomizedSearchCV, RepeatedKFold,\n",
    ")\n",
    "from sklearn.metrics import mean_squared_error\n",
    "from sklearn.ensemble import (\n",
    "    BaggingRegressor, RandomForestRegressor, AdaBoostRegressor, GradientBoostingRegressor,\n",
    ")\n",
    "\n",
    "warnings.filterwarnings(\"ignore\")"
   ]
  },
  {
   "cell_type": "code",
   "execution_count": 2,
   "id": "d11a6abe",
   "metadata": {},
   "outputs": [
    {
     "data": {
      "text/plain": [
       "['bus_bts.csv',\n",
       " 'submission_baseline_rf.csv',\n",
       " 'submission_sample.csv',\n",
       " 'test.csv',\n",
       " 'train.csv',\n",
       " '행정_법정동 중심좌표.xlsx']"
      ]
     },
     "execution_count": 2,
     "metadata": {},
     "output_type": "execute_result"
    }
   ],
   "source": [
    "data_list = os.listdir(\"./data\")\n",
    "data_list"
   ]
  },
  {
   "cell_type": "code",
   "execution_count": null,
   "id": "59dad977",
   "metadata": {},
   "outputs": [],
   "source": [
    "train = pd.read_csv(\"./data/\" + data_list[1])\n",
    "test = pd.read_csv(\"./data/\" + data_list[0])"
   ]
  }
 ],
 "metadata": {
  "kernelspec": {
   "display_name": "Python 3",
   "language": "python",
   "name": "python3"
  },
  "language_info": {
   "codemirror_mode": {
    "name": "ipython",
    "version": 3
   },
   "file_extension": ".py",
   "mimetype": "text/x-python",
   "name": "python",
   "nbconvert_exporter": "python",
   "pygments_lexer": "ipython3",
   "version": "3.8.6"
  }
 },
 "nbformat": 4,
 "nbformat_minor": 5
}
